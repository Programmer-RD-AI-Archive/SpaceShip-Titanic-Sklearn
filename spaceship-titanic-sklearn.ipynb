{
 "cells": [
  {
   "cell_type": "code",
   "execution_count": 1,
   "id": "8d086cbc",
   "metadata": {
    "_cell_guid": "b1076dfc-b9ad-4769-8c92-a6c4dae69d19",
    "_uuid": "8f2839f25d086af736a60e9eeb907d3b93b6e0e5",
    "execution": {
     "iopub.execute_input": "2022-05-11T10:46:08.910962Z",
     "iopub.status.busy": "2022-05-11T10:46:08.910526Z",
     "iopub.status.idle": "2022-05-11T10:46:08.931845Z",
     "shell.execute_reply": "2022-05-11T10:46:08.930562Z"
    },
    "papermill": {
     "duration": 0.061866,
     "end_time": "2022-05-11T10:46:08.934320",
     "exception": false,
     "start_time": "2022-05-11T10:46:08.872454",
     "status": "completed"
    },
    "tags": []
   },
   "outputs": [
    {
     "name": "stdout",
     "output_type": "stream",
     "text": [
      "/kaggle/input/spaceship-titanic/sample_submission.csv\n",
      "/kaggle/input/spaceship-titanic/train.csv\n",
      "/kaggle/input/spaceship-titanic/test.csv\n"
     ]
    }
   ],
   "source": [
    "# This Python 3 environment comes with many helpful analytics libraries installed\n",
    "# It is defined by the kaggle/python Docker image: https://github.com/kaggle/docker-python\n",
    "# For example, here's several helpful packages to load\n",
    "\n",
    "import numpy as np # linear algebra\n",
    "import pandas as pd # data processing, CSV file I/O (e.g. pd.read_csv)\n",
    "\n",
    "# Input data files are available in the read-only \"../input/\" directory\n",
    "# For example, running this (by clicking run or pressing Shift+Enter) will list all files under the input directory\n",
    "\n",
    "import os\n",
    "for dirname, _, filenames in os.walk('/kaggle/input'):\n",
    "    for filename in filenames:\n",
    "        print(os.path.join(dirname, filename))\n",
    "\n",
    "# You can write up to 20GB to the current directory (/kaggle/working/) that gets preserved as output when you create a version using \"Save & Run All\" \n",
    "# You can also write temporary files to /kaggle/temp/, but they won't be saved outside of the current session"
   ]
  },
  {
   "cell_type": "code",
   "execution_count": 2,
   "id": "be6399ae",
   "metadata": {
    "execution": {
     "iopub.execute_input": "2022-05-11T10:46:09.006800Z",
     "iopub.status.busy": "2022-05-11T10:46:09.005824Z",
     "iopub.status.idle": "2022-05-11T10:46:11.552858Z",
     "shell.execute_reply": "2022-05-11T10:46:11.551630Z"
    },
    "papermill": {
     "duration": 2.585161,
     "end_time": "2022-05-11T10:46:11.555012",
     "exception": false,
     "start_time": "2022-05-11T10:46:08.969851",
     "status": "completed"
    },
    "tags": []
   },
   "outputs": [
    {
     "data": {
      "text/html": [
       "<style type='text/css'>\n",
       ".datatable table.frame { margin-bottom: 0; }\n",
       ".datatable table.frame thead { border-bottom: none; }\n",
       ".datatable table.frame tr.coltypes td {  color: #FFFFFF;  line-height: 6px;  padding: 0 0.5em;}\n",
       ".datatable .bool    { background: #DDDD99; }\n",
       ".datatable .object  { background: #565656; }\n",
       ".datatable .int     { background: #5D9E5D; }\n",
       ".datatable .float   { background: #4040CC; }\n",
       ".datatable .str     { background: #CC4040; }\n",
       ".datatable .time    { background: #40CC40; }\n",
       ".datatable .row_index {  background: var(--jp-border-color3);  border-right: 1px solid var(--jp-border-color0);  color: var(--jp-ui-font-color3);  font-size: 9px;}\n",
       ".datatable .frame tbody td { text-align: left; }\n",
       ".datatable .frame tr.coltypes .row_index {  background: var(--jp-border-color0);}\n",
       ".datatable th:nth-child(2) { padding-left: 12px; }\n",
       ".datatable .hellipsis {  color: var(--jp-cell-editor-border-color);}\n",
       ".datatable .vellipsis {  background: var(--jp-layout-color0);  color: var(--jp-cell-editor-border-color);}\n",
       ".datatable .na {  color: var(--jp-cell-editor-border-color);  font-size: 80%;}\n",
       ".datatable .sp {  opacity: 0.25;}\n",
       ".datatable .footer { font-size: 9px; }\n",
       ".datatable .frame_dimensions {  background: var(--jp-border-color3);  border-top: 1px solid var(--jp-border-color0);  color: var(--jp-ui-font-color3);  display: inline-block;  opacity: 0.6;  padding: 1px 10px 1px 5px;}\n",
       "</style>\n"
      ],
      "text/plain": [
       "<IPython.core.display.HTML object>"
      ]
     },
     "metadata": {},
     "output_type": "display_data"
    }
   ],
   "source": [
    "import numpy as np\n",
    "import pandas as pd \n",
    "import sklearn\n",
    "from sklearn.metrics  import f1_score,accuracy_score\n",
    "from sklearn.tree import DecisionTreeClassifier\n",
    "from sklearn.model_selection import train_test_split\n",
    "from sklearn.metrics import mean_absolute_error\n",
    "from sklearn.metrics import r2_score\n",
    "# Classification\n",
    "from sklearn.linear_model import LogisticRegression\n",
    "from sklearn.svm import SVC\n",
    "from sklearn.naive_bayes import GaussianNB\n",
    "from sklearn.naive_bayes import MultinomialNB\n",
    "from sklearn.linear_model import SGDClassifier\n",
    "from sklearn.neighbors import KNeighborsClassifier\n",
    "from sklearn.tree import DecisionTreeClassifier\n",
    "from sklearn.ensemble import RandomForestClassifier\n",
    "from sklearn.ensemble import GradientBoostingClassifier\n",
    "from lightgbm import LGBMClassifier\n",
    "from xgboost.sklearn import XGBClassifier\n",
    "#\n",
    "from sklearn.metrics import classification_report\n",
    "from sklearn.model_selection import cross_val_score\n",
    "from sklearn.compose import make_column_transformer\n",
    "from sklearn.preprocessing import StandardScaler, MinMaxScaler, OrdinalEncoder\n",
    "from sklearn.metrics import *\n",
    "from sklearn.model_selection import *\n",
    "# from catboost import CatBoost,CatBoostRegressor\n",
    "from xgboost import XGBRegressor,XGBRFRegressor\n",
    "np.random.seed(55)\n",
    "sklearn.random.seed(55)"
   ]
  },
  {
   "cell_type": "code",
   "execution_count": 3,
   "id": "d232c335",
   "metadata": {
    "execution": {
     "iopub.execute_input": "2022-05-11T10:46:11.603158Z",
     "iopub.status.busy": "2022-05-11T10:46:11.602844Z",
     "iopub.status.idle": "2022-05-11T10:46:11.659956Z",
     "shell.execute_reply": "2022-05-11T10:46:11.658996Z"
    },
    "papermill": {
     "duration": 0.083505,
     "end_time": "2022-05-11T10:46:11.661991",
     "exception": false,
     "start_time": "2022-05-11T10:46:11.578486",
     "status": "completed"
    },
    "tags": []
   },
   "outputs": [],
   "source": [
    "data = pd.read_csv('/kaggle/input/spaceship-titanic/train.csv')"
   ]
  },
  {
   "cell_type": "code",
   "execution_count": 4,
   "id": "027a4e16",
   "metadata": {
    "execution": {
     "iopub.execute_input": "2022-05-11T10:46:11.710119Z",
     "iopub.status.busy": "2022-05-11T10:46:11.709572Z",
     "iopub.status.idle": "2022-05-11T10:46:11.747956Z",
     "shell.execute_reply": "2022-05-11T10:46:11.746496Z"
    },
    "papermill": {
     "duration": 0.064937,
     "end_time": "2022-05-11T10:46:11.750343",
     "exception": false,
     "start_time": "2022-05-11T10:46:11.685406",
     "status": "completed"
    },
    "tags": []
   },
   "outputs": [],
   "source": [
    "data = data.sample(frac=1)\n",
    "test_data = pd.read_csv('/kaggle/input/spaceship-titanic/test.csv')"
   ]
  },
  {
   "cell_type": "code",
   "execution_count": 5,
   "id": "758f2518",
   "metadata": {
    "execution": {
     "iopub.execute_input": "2022-05-11T10:46:11.822849Z",
     "iopub.status.busy": "2022-05-11T10:46:11.822571Z",
     "iopub.status.idle": "2022-05-11T10:46:11.827154Z",
     "shell.execute_reply": "2022-05-11T10:46:11.826425Z"
    },
    "papermill": {
     "duration": 0.043098,
     "end_time": "2022-05-11T10:46:11.829518",
     "exception": false,
     "start_time": "2022-05-11T10:46:11.786420",
     "status": "completed"
    },
    "tags": []
   },
   "outputs": [],
   "source": [
    "from tqdm import tqdm"
   ]
  },
  {
   "cell_type": "code",
   "execution_count": 6,
   "id": "ba2847b7",
   "metadata": {
    "execution": {
     "iopub.execute_input": "2022-05-11T10:46:11.878025Z",
     "iopub.status.busy": "2022-05-11T10:46:11.877477Z",
     "iopub.status.idle": "2022-05-11T10:46:13.142049Z",
     "shell.execute_reply": "2022-05-11T10:46:13.141254Z"
    },
    "papermill": {
     "duration": 1.291735,
     "end_time": "2022-05-11T10:46:13.144382",
     "exception": false,
     "start_time": "2022-05-11T10:46:11.852647",
     "status": "completed"
    },
    "tags": []
   },
   "outputs": [
    {
     "name": "stderr",
     "output_type": "stream",
     "text": [
      "100%|██████████| 8693/8693 [00:01<00:00, 7141.57it/s]\n"
     ]
    }
   ],
   "source": [
    "data['HomePlanet'] = data['HomePlanet'].replace({\"Earth\":1,\"Europa\":2,\"Mars\":3})\n",
    "home_plant_labels = {\"Earth\":1,\"Europa\":2,\"Mars\":3}\n",
    "data['CryoSleep'] = data['CryoSleep'].replace({True:1,False:2})\n",
    "cryo_sleep_labels = {\"Earth\":1,\"Europa\":2,\"Mars\":3}\n",
    "cabins_1 = []\n",
    "cabins_2 = []\n",
    "cabins_3 = []\n",
    "for i in tqdm(range(len(data['Cabin']))):\n",
    "    cabin = str(data.iloc[i]['Cabin']).split(\"/\")\n",
    "    if cabin[0] != \"nan\":\n",
    "        cabins_1.append(cabin[0])\n",
    "        cabins_2.append(int(cabin[1]))\n",
    "        cabins_3.append(cabin[2])\n",
    "    else:\n",
    "        cabins_1.append(None)\n",
    "        cabins_2.append(None)\n",
    "        cabins_3.append(None)\n",
    "data['Cabins_1'] = cabins_1\n",
    "data['Cabins_2'] = cabins_2\n",
    "data['Cabins_3'] = cabins_3"
   ]
  },
  {
   "cell_type": "code",
   "execution_count": 7,
   "id": "b3eca96b",
   "metadata": {
    "execution": {
     "iopub.execute_input": "2022-05-11T10:46:13.232296Z",
     "iopub.status.busy": "2022-05-11T10:46:13.232009Z",
     "iopub.status.idle": "2022-05-11T10:46:13.253530Z",
     "shell.execute_reply": "2022-05-11T10:46:13.252877Z"
    },
    "papermill": {
     "duration": 0.067915,
     "end_time": "2022-05-11T10:46:13.255838",
     "exception": false,
     "start_time": "2022-05-11T10:46:13.187923",
     "status": "completed"
    },
    "tags": []
   },
   "outputs": [],
   "source": [
    "data['Transported'] =data['Transported'].astype('category').cat.codes\n",
    "data['VIP'] =data['VIP'].astype('category').cat.codes\n",
    "data['Cabins_1'] =data['Cabins_1'].astype('category').cat.codes\n",
    "data['Cabins_3'] =data['Cabins_3'].astype('category').cat.codes\n",
    "data.drop('Cabin',axis=1,inplace=True)\n",
    "data.drop('Destination',axis=1,inplace=True)\n",
    "data.drop('Name',axis=1,inplace=True)"
   ]
  },
  {
   "cell_type": "code",
   "execution_count": 8,
   "id": "b16fff17",
   "metadata": {
    "execution": {
     "iopub.execute_input": "2022-05-11T10:46:13.345111Z",
     "iopub.status.busy": "2022-05-11T10:46:13.344811Z",
     "iopub.status.idle": "2022-05-11T10:46:13.354189Z",
     "shell.execute_reply": "2022-05-11T10:46:13.352719Z"
    },
    "papermill": {
     "duration": 0.057943,
     "end_time": "2022-05-11T10:46:13.356340",
     "exception": false,
     "start_time": "2022-05-11T10:46:13.298397",
     "status": "completed"
    },
    "tags": []
   },
   "outputs": [],
   "source": [
    "data['PassengerId'] = data['PassengerId'].astype(int)"
   ]
  },
  {
   "cell_type": "code",
   "execution_count": 9,
   "id": "e89041d1",
   "metadata": {
    "execution": {
     "iopub.execute_input": "2022-05-11T10:46:13.443412Z",
     "iopub.status.busy": "2022-05-11T10:46:13.442357Z",
     "iopub.status.idle": "2022-05-11T10:46:13.461817Z",
     "shell.execute_reply": "2022-05-11T10:46:13.460280Z"
    },
    "papermill": {
     "duration": 0.066254,
     "end_time": "2022-05-11T10:46:13.464927",
     "exception": false,
     "start_time": "2022-05-11T10:46:13.398673",
     "status": "completed"
    },
    "tags": []
   },
   "outputs": [],
   "source": [
    "data['HomePlanet'] = data['HomePlanet'].fillna(data['HomePlanet'].median())\n",
    "data['CryoSleep'] = data['CryoSleep'].fillna(data['CryoSleep'].median())\n",
    "data['Age'] = data['Age'].fillna(data['Age'].median())\n",
    "data['RoomService'] = data['RoomService'].fillna(data['RoomService'].median())\n",
    "data['FoodCourt'] = data['FoodCourt'].fillna(data['FoodCourt'].median())\n",
    "data['ShoppingMall'] = data['ShoppingMall'].fillna(data['ShoppingMall'].median())\n",
    "data['Spa'] = data['Spa'].fillna(data['Spa'].median())\n",
    "data['VRDeck'] = data['VRDeck'].fillna(data['VRDeck'].median())\n",
    "data['Cabins_2'] = data['Cabins_2'].fillna(data['Cabins_2'].median())"
   ]
  },
  {
   "cell_type": "code",
   "execution_count": 10,
   "id": "745637e5",
   "metadata": {
    "execution": {
     "iopub.execute_input": "2022-05-11T10:46:13.554960Z",
     "iopub.status.busy": "2022-05-11T10:46:13.554219Z",
     "iopub.status.idle": "2022-05-11T10:46:13.561245Z",
     "shell.execute_reply": "2022-05-11T10:46:13.559861Z"
    },
    "papermill": {
     "duration": 0.055756,
     "end_time": "2022-05-11T10:46:13.563768",
     "exception": false,
     "start_time": "2022-05-11T10:46:13.508012",
     "status": "completed"
    },
    "tags": []
   },
   "outputs": [],
   "source": [
    "X = data.drop('Transported',axis=1)\n",
    "y = data['Transported']"
   ]
  },
  {
   "cell_type": "code",
   "execution_count": 11,
   "id": "2bb783b4",
   "metadata": {
    "execution": {
     "iopub.execute_input": "2022-05-11T10:46:13.650872Z",
     "iopub.status.busy": "2022-05-11T10:46:13.650477Z",
     "iopub.status.idle": "2022-05-11T10:46:13.657822Z",
     "shell.execute_reply": "2022-05-11T10:46:13.656826Z"
    },
    "papermill": {
     "duration": 0.053999,
     "end_time": "2022-05-11T10:46:13.660423",
     "exception": false,
     "start_time": "2022-05-11T10:46:13.606424",
     "status": "completed"
    },
    "tags": []
   },
   "outputs": [],
   "source": [
    "X_train,X_test,y_train,y_test = train_test_split(X,y,test_size=0.125,shuffle=True)"
   ]
  },
  {
   "cell_type": "code",
   "execution_count": 12,
   "id": "4d0e8c2a",
   "metadata": {
    "execution": {
     "iopub.execute_input": "2022-05-11T10:46:13.748339Z",
     "iopub.status.busy": "2022-05-11T10:46:13.747919Z",
     "iopub.status.idle": "2022-05-11T10:46:13.773552Z",
     "shell.execute_reply": "2022-05-11T10:46:13.772514Z"
    },
    "papermill": {
     "duration": 0.072309,
     "end_time": "2022-05-11T10:46:13.776175",
     "exception": false,
     "start_time": "2022-05-11T10:46:13.703866",
     "status": "completed"
    },
    "tags": []
   },
   "outputs": [],
   "source": [
    "num_columns = list(X.columns)\n",
    "ct = make_column_transformer(\n",
    "    (MinMaxScaler(), num_columns),\n",
    "    (StandardScaler(), num_columns),\n",
    "    remainder='passthrough'\n",
    ")\n",
    "\n",
    "X_train = ct.fit_transform(X_train)\n",
    "X_test = ct.transform(X_test)"
   ]
  },
  {
   "cell_type": "code",
   "execution_count": 13,
   "id": "2a946236",
   "metadata": {
    "execution": {
     "iopub.execute_input": "2022-05-11T10:46:13.865434Z",
     "iopub.status.busy": "2022-05-11T10:46:13.864993Z",
     "iopub.status.idle": "2022-05-11T10:46:13.871695Z",
     "shell.execute_reply": "2022-05-11T10:46:13.870602Z"
    },
    "papermill": {
     "duration": 0.054209,
     "end_time": "2022-05-11T10:46:13.874293",
     "exception": false,
     "start_time": "2022-05-11T10:46:13.820084",
     "status": "completed"
    },
    "tags": []
   },
   "outputs": [],
   "source": [
    "from sklearn.linear_model import LogisticRegression\n",
    "from sklearn.svm import SVC\n",
    "from sklearn.naive_bayes import GaussianNB\n",
    "from sklearn.naive_bayes import MultinomialNB\n",
    "from sklearn.linear_model import SGDClassifier\n",
    "from sklearn.neighbors import KNeighborsClassifier\n",
    "from sklearn.tree import DecisionTreeClassifier\n",
    "from sklearn.ensemble import RandomForestClassifier\n",
    "from sklearn.ensemble import GradientBoostingClassifier\n",
    "from lightgbm import LGBMClassifier\n",
    "from xgboost.sklearn import XGBClassifier"
   ]
  },
  {
   "cell_type": "code",
   "execution_count": 14,
   "id": "d016a1f0",
   "metadata": {
    "execution": {
     "iopub.execute_input": "2022-05-11T10:46:13.965185Z",
     "iopub.status.busy": "2022-05-11T10:46:13.964669Z",
     "iopub.status.idle": "2022-05-11T10:46:15.515449Z",
     "shell.execute_reply": "2022-05-11T10:46:15.514250Z"
    },
    "papermill": {
     "duration": 1.599385,
     "end_time": "2022-05-11T10:46:15.518480",
     "exception": false,
     "start_time": "2022-05-11T10:46:13.919095",
     "status": "completed"
    },
    "tags": []
   },
   "outputs": [
    {
     "data": {
      "text/plain": [
       "SVC()"
      ]
     },
     "execution_count": 14,
     "metadata": {},
     "output_type": "execute_result"
    }
   ],
   "source": [
    "model = SVC()\n",
    "model.fit(X_train,y_train)"
   ]
  },
  {
   "cell_type": "code",
   "execution_count": 15,
   "id": "5f430cce",
   "metadata": {
    "execution": {
     "iopub.execute_input": "2022-05-11T10:46:15.606811Z",
     "iopub.status.busy": "2022-05-11T10:46:15.606545Z",
     "iopub.status.idle": "2022-05-11T10:46:17.233975Z",
     "shell.execute_reply": "2022-05-11T10:46:17.233147Z"
    },
    "papermill": {
     "duration": 1.674126,
     "end_time": "2022-05-11T10:46:17.236354",
     "exception": false,
     "start_time": "2022-05-11T10:46:15.562228",
     "status": "completed"
    },
    "tags": []
   },
   "outputs": [
    {
     "data": {
      "text/plain": [
       "0.7976155244577854"
      ]
     },
     "execution_count": 15,
     "metadata": {},
     "output_type": "execute_result"
    }
   ],
   "source": [
    "model.score(X_test,y_test)\n",
    "preds = model.predict(X_test)\n",
    "accuracy_score(preds,y_test),precision_score(preds,y_test),f1_score(preds,y_test)\n",
    "np.mean(cross_val_score(model,X_test,y_test))"
   ]
  },
  {
   "cell_type": "code",
   "execution_count": 16,
   "id": "904de0c1",
   "metadata": {
    "execution": {
     "iopub.execute_input": "2022-05-11T10:46:17.296126Z",
     "iopub.status.busy": "2022-05-11T10:46:17.295829Z",
     "iopub.status.idle": "2022-05-11T10:46:18.164201Z",
     "shell.execute_reply": "2022-05-11T10:46:18.162698Z"
    },
    "papermill": {
     "duration": 0.901067,
     "end_time": "2022-05-11T10:46:18.166546",
     "exception": false,
     "start_time": "2022-05-11T10:46:17.265479",
     "status": "completed"
    },
    "tags": []
   },
   "outputs": [
    {
     "name": "stderr",
     "output_type": "stream",
     "text": [
      "100%|██████████| 4277/4277 [00:00<00:00, 5373.95it/s]\n"
     ]
    }
   ],
   "source": [
    "test_data = pd.read_csv('/kaggle/input/spaceship-titanic/test.csv')\n",
    "ids = test_data[\"PassengerId\"]\n",
    "test_data['HomePlanet'] = test_data['HomePlanet'].replace({\"Earth\":1,\"Europa\":2,\"Mars\":3})\n",
    "home_plant_labels = {\"Earth\":1,\"Europa\":2,\"Mars\":3}\n",
    "test_data['CryoSleep'] = test_data['CryoSleep'].replace({True:1,False:2})\n",
    "cryo_sleep_labels = {\"Earth\":1,\"Europa\":2,\"Mars\":3}\n",
    "cabins_1 = []\n",
    "cabins_2 = []\n",
    "cabins_3 = []\n",
    "for i in tqdm(range(len(test_data['Cabin']))):\n",
    "    cabin = str(test_data.iloc[i]['Cabin']).split(\"/\")\n",
    "    if cabin[0] != \"nan\":\n",
    "        cabins_1.append(cabin[0])\n",
    "        cabins_2.append(int(cabin[1]))\n",
    "        cabins_3.append(cabin[2])\n",
    "    else:\n",
    "        cabins_1.append(None)\n",
    "        cabins_2.append(None)\n",
    "        cabins_3.append(None)\n",
    "test_data['Cabins_1'] = cabins_1\n",
    "test_data['Cabins_2'] = cabins_2\n",
    "test_data['Cabins_3'] = cabins_3\n",
    "test_data['VIP'] =test_data['VIP'].astype('category').cat.codes\n",
    "test_data['Cabins_1'] =test_data['Cabins_1'].astype('category').cat.codes\n",
    "test_data['Cabins_3'] =test_data['Cabins_3'].astype('category').cat.codes\n",
    "test_data.drop('Cabin',axis=1,inplace=True)\n",
    "test_data.drop('Destination',axis=1,inplace=True)\n",
    "test_data.drop('Name',axis=1,inplace=True)\n",
    "test_data['PassengerId'] = test_data['PassengerId'].astype(int)\n",
    "test_data['HomePlanet'] = test_data['HomePlanet'].fillna(test_data['HomePlanet'].median())\n",
    "test_data['CryoSleep'] = test_data['CryoSleep'].fillna(test_data['CryoSleep'].median())\n",
    "test_data['Age'] = test_data['Age'].fillna(test_data['Age'].median())\n",
    "test_data['RoomService'] = test_data['RoomService'].fillna(test_data['RoomService'].median())\n",
    "test_data['FoodCourt'] = test_data['FoodCourt'].fillna(test_data['FoodCourt'].median())\n",
    "test_data['ShoppingMall'] = test_data['ShoppingMall'].fillna(test_data['ShoppingMall'].median())\n",
    "test_data['Spa'] = test_data['Spa'].fillna(test_data['Spa'].median())\n",
    "test_data['VRDeck'] = test_data['VRDeck'].fillna(test_data['VRDeck'].median())\n",
    "test_data['Cabins_2'] = test_data['Cabins_2'].fillna(test_data['Cabins_2'].median())"
   ]
  },
  {
   "cell_type": "code",
   "execution_count": 17,
   "id": "0f1f2c3d",
   "metadata": {
    "execution": {
     "iopub.execute_input": "2022-05-11T10:46:18.231808Z",
     "iopub.status.busy": "2022-05-11T10:46:18.231534Z",
     "iopub.status.idle": "2022-05-11T10:46:18.243154Z",
     "shell.execute_reply": "2022-05-11T10:46:18.242399Z"
    },
    "papermill": {
     "duration": 0.047185,
     "end_time": "2022-05-11T10:46:18.245394",
     "exception": false,
     "start_time": "2022-05-11T10:46:18.198209",
     "status": "completed"
    },
    "tags": []
   },
   "outputs": [],
   "source": [
    "test_data = ct.transform(test_data)"
   ]
  },
  {
   "cell_type": "code",
   "execution_count": 18,
   "id": "a32608c1",
   "metadata": {
    "execution": {
     "iopub.execute_input": "2022-05-11T10:46:18.343105Z",
     "iopub.status.busy": "2022-05-11T10:46:18.342721Z",
     "iopub.status.idle": "2022-05-11T10:46:20.536556Z",
     "shell.execute_reply": "2022-05-11T10:46:20.535493Z"
    },
    "papermill": {
     "duration": 2.245623,
     "end_time": "2022-05-11T10:46:20.539200",
     "exception": false,
     "start_time": "2022-05-11T10:46:18.293577",
     "status": "completed"
    },
    "tags": []
   },
   "outputs": [],
   "source": [
    "preds = model.predict(np.array(test_data))"
   ]
  },
  {
   "cell_type": "code",
   "execution_count": 19,
   "id": "d3cb8f5f",
   "metadata": {
    "execution": {
     "iopub.execute_input": "2022-05-11T10:46:20.648682Z",
     "iopub.status.busy": "2022-05-11T10:46:20.648342Z",
     "iopub.status.idle": "2022-05-11T10:46:20.655272Z",
     "shell.execute_reply": "2022-05-11T10:46:20.654262Z"
    },
    "papermill": {
     "duration": 0.060076,
     "end_time": "2022-05-11T10:46:20.658019",
     "exception": false,
     "start_time": "2022-05-11T10:46:20.597943",
     "status": "completed"
    },
    "tags": []
   },
   "outputs": [
    {
     "data": {
      "text/plain": [
       "array([1, 0, 1, ..., 1, 1, 1], dtype=int8)"
      ]
     },
     "execution_count": 19,
     "metadata": {},
     "output_type": "execute_result"
    }
   ],
   "source": [
    "preds"
   ]
  },
  {
   "cell_type": "code",
   "execution_count": 20,
   "id": "f1f85748",
   "metadata": {
    "execution": {
     "iopub.execute_input": "2022-05-11T10:46:20.758513Z",
     "iopub.status.busy": "2022-05-11T10:46:20.758049Z",
     "iopub.status.idle": "2022-05-11T10:46:20.762424Z",
     "shell.execute_reply": "2022-05-11T10:46:20.761720Z"
    },
    "papermill": {
     "duration": 0.056743,
     "end_time": "2022-05-11T10:46:20.764050",
     "exception": false,
     "start_time": "2022-05-11T10:46:20.707307",
     "status": "completed"
    },
    "tags": []
   },
   "outputs": [],
   "source": [
    "predictions = {\n",
    "    \"PassengerId\":[],\n",
    "    \"Transported\":[]\n",
    "}"
   ]
  },
  {
   "cell_type": "code",
   "execution_count": 21,
   "id": "ab77e88f",
   "metadata": {
    "execution": {
     "iopub.execute_input": "2022-05-11T10:46:20.863010Z",
     "iopub.status.busy": "2022-05-11T10:46:20.862666Z",
     "iopub.status.idle": "2022-05-11T10:46:20.866990Z",
     "shell.execute_reply": "2022-05-11T10:46:20.866286Z"
    },
    "papermill": {
     "duration": 0.057327,
     "end_time": "2022-05-11T10:46:20.869118",
     "exception": false,
     "start_time": "2022-05-11T10:46:20.811791",
     "status": "completed"
    },
    "tags": []
   },
   "outputs": [],
   "source": [
    "labels = {1:True,0:False}"
   ]
  },
  {
   "cell_type": "code",
   "execution_count": 22,
   "id": "783dd8bd",
   "metadata": {
    "execution": {
     "iopub.execute_input": "2022-05-11T10:46:20.972433Z",
     "iopub.status.busy": "2022-05-11T10:46:20.972103Z",
     "iopub.status.idle": "2022-05-11T10:46:20.988078Z",
     "shell.execute_reply": "2022-05-11T10:46:20.986864Z"
    },
    "papermill": {
     "duration": 0.069269,
     "end_time": "2022-05-11T10:46:20.990299",
     "exception": false,
     "start_time": "2022-05-11T10:46:20.921030",
     "status": "completed"
    },
    "tags": []
   },
   "outputs": [],
   "source": [
    "for id,pred in zip(ids,preds):\n",
    "    predictions['PassengerId'].append(id)\n",
    "    predictions['Transported'].append(labels[pred])"
   ]
  },
  {
   "cell_type": "code",
   "execution_count": 23,
   "id": "06767bf1",
   "metadata": {
    "execution": {
     "iopub.execute_input": "2022-05-11T10:46:21.057074Z",
     "iopub.status.busy": "2022-05-11T10:46:21.056707Z",
     "iopub.status.idle": "2022-05-11T10:46:21.062849Z",
     "shell.execute_reply": "2022-05-11T10:46:21.061936Z"
    },
    "papermill": {
     "duration": 0.041679,
     "end_time": "2022-05-11T10:46:21.065236",
     "exception": false,
     "start_time": "2022-05-11T10:46:21.023557",
     "status": "completed"
    },
    "tags": []
   },
   "outputs": [],
   "source": [
    "predictions = pd.DataFrame(predictions)"
   ]
  },
  {
   "cell_type": "code",
   "execution_count": 24,
   "id": "cce93dc2",
   "metadata": {
    "execution": {
     "iopub.execute_input": "2022-05-11T10:46:21.164245Z",
     "iopub.status.busy": "2022-05-11T10:46:21.163710Z",
     "iopub.status.idle": "2022-05-11T10:46:21.178157Z",
     "shell.execute_reply": "2022-05-11T10:46:21.177263Z"
    },
    "papermill": {
     "duration": 0.067181,
     "end_time": "2022-05-11T10:46:21.180777",
     "exception": false,
     "start_time": "2022-05-11T10:46:21.113596",
     "status": "completed"
    },
    "tags": []
   },
   "outputs": [],
   "source": [
    "predictions.to_csv('./final.csv',index=False)"
   ]
  },
  {
   "cell_type": "code",
   "execution_count": null,
   "id": "df69168a",
   "metadata": {
    "papermill": {
     "duration": 0.048775,
     "end_time": "2022-05-11T10:46:21.278240",
     "exception": false,
     "start_time": "2022-05-11T10:46:21.229465",
     "status": "completed"
    },
    "tags": []
   },
   "outputs": [],
   "source": []
  }
 ],
 "metadata": {
  "kernelspec": {
   "display_name": "Python 3",
   "language": "python",
   "name": "python3"
  },
  "language_info": {
   "codemirror_mode": {
    "name": "ipython",
    "version": 3
   },
   "file_extension": ".py",
   "mimetype": "text/x-python",
   "name": "python",
   "nbconvert_exporter": "python",
   "pygments_lexer": "ipython3",
   "version": "3.7.12"
  },
  "papermill": {
   "default_parameters": {},
   "duration": 25.736607,
   "end_time": "2022-05-11T10:46:22.649841",
   "environment_variables": {},
   "exception": null,
   "input_path": "__notebook__.ipynb",
   "output_path": "__notebook__.ipynb",
   "parameters": {},
   "start_time": "2022-05-11T10:45:56.913234",
   "version": "2.3.4"
  }
 },
 "nbformat": 4,
 "nbformat_minor": 5
}
